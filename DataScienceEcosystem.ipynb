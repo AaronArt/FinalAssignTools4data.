{
 "cells": [
  {
   "cell_type": "markdown",
   "id": "09fd3f62",
   "metadata": {},
   "source": [
    "# Data Science Tools and Ecosystem\n"
   ]
  },
  {
   "cell_type": "markdown",
   "id": "7cc6ae10",
   "metadata": {},
   "source": [
    "In this notebook, Data Science Tools and Ecosystem are summarized."
   ]
  },
  {
   "cell_type": "markdown",
   "id": "89d84fad",
   "metadata": {},
   "source": [
    "Some of the popular languages that Data Scientists use are:\n",
    "1. Python\n",
    "2. R\n",
    "3. Java\n",
    "4. JavaScript\n",
    "5. Matlab\n",
    "6. Scala\n",
    "7. Julia\n",
    "8. C++"
   ]
  },
  {
   "cell_type": "markdown",
   "id": "674e0d22",
   "metadata": {},
   "source": [
    "Some of the commonly used libraries used by Data Scientists include:\n",
    "1. Pandas\n",
    "2. NumPy\n",
    "3. Scikit learn\n",
    "4. Keras\n",
    "5. PyTorch\n",
    "6. TensorFlow\n",
    "7. ggplot2\n",
    "8. tidyr"
   ]
  },
  {
   "cell_type": "markdown",
   "id": "c991fca1",
   "metadata": {},
   "source": [
    "|Data Science Tools|\n",
    "-----------------------------\n",
    "| JupyterLab|\n",
    "| RStudio |\n",
    "| Spyder |\n"
   ]
  },
  {
   "cell_type": "markdown",
   "id": "eb7bf751",
   "metadata": {},
   "source": [
    "### Below are a few examples of evaluating arithmetic expressions in Python"
   ]
  },
  {
   "cell_type": "code",
   "execution_count": 1,
   "id": "0af7bdae",
   "metadata": {},
   "outputs": [
    {
     "data": {
      "text/plain": [
       "17"
      ]
     },
     "execution_count": 1,
     "metadata": {},
     "output_type": "execute_result"
    }
   ],
   "source": [
    "#This a simple arithmetic expression to mutiply then add integers\n",
    "(3*4)+5"
   ]
  },
  {
   "cell_type": "code",
   "execution_count": 4,
   "id": "8841011e",
   "metadata": {},
   "outputs": [
    {
     "data": {
      "text/plain": [
       "3.3333333333333335"
      ]
     },
     "execution_count": 4,
     "metadata": {},
     "output_type": "execute_result"
    }
   ],
   "source": [
    "#This will convert 200 minutes to hours by diving by 60\n",
    "minutes = 200\n",
    "hours = minutes/60\n",
    "hours"
   ]
  },
  {
   "cell_type": "markdown",
   "id": "ec9a9558",
   "metadata": {},
   "source": [
    "__Objectives:__\n",
    "- Popular languages for Data Science\n",
    "- Popular libraries for Data Science\n",
    "- Use of markdown"
   ]
  },
  {
   "cell_type": "markdown",
   "id": "bc1e98bd",
   "metadata": {},
   "source": [
    "## Author\n",
    "\n",
    "Aaron Artunduaga"
   ]
  },
  {
   "cell_type": "code",
   "execution_count": null,
   "id": "dbfbba37",
   "metadata": {},
   "outputs": [],
   "source": []
  }
 ],
 "metadata": {
  "kernelspec": {
   "display_name": "Python 3",
   "language": "python",
   "name": "python3"
  },
  "language_info": {
   "codemirror_mode": {
    "name": "ipython",
    "version": 3
   },
   "file_extension": ".py",
   "mimetype": "text/x-python",
   "name": "python",
   "nbconvert_exporter": "python",
   "pygments_lexer": "ipython3",
   "version": "3.9.11"
  }
 },
 "nbformat": 4,
 "nbformat_minor": 5
}
